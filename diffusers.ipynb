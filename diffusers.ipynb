{
 "cells": [
  {
   "cell_type": "code",
   "execution_count": null,
   "metadata": {},
   "outputs": [],
   "source": [
    "\"\"\"\n",
    "from diffusers import DiffusionPipeline, DPMSolverMultistepScheduler\n",
    "import torch\n",
    "import mercury as mr\n",
    "\n",
    "use_cuda = True\n",
    "model_id = \"stabilityai/stable-diffusion-2-1\"\n",
    "pipe = DiffusionPipeline.from_pretrained(model_id, torch_dtype=torch.float16)\n",
    "pipe.enable_xformers_memory_efficient_attention() # use less memory to build larger image\n",
    "pipe.scheduler = DPMSolverMultistepScheduler.from_config(pipe.scheduler.config) # use best scheduler recommended by huggingface\n",
    "\"\"\"\n",
    "import mercury as mr\n",
    "from diffusers import DiffusionPipeline"
   ]
  },
  {
   "cell_type": "code",
   "execution_count": null,
   "metadata": {},
   "outputs": [],
   "source": [
    "from diffusers.utils import logging\n",
    "\n",
    "logging.set_verbosity_info()\n",
    "logger = logging.get_logger(\"diffusers\")\n",
    "logger.info(\"INFO\")\n",
    "logger.warning(\"WARN\")"
   ]
  },
  {
   "cell_type": "code",
   "execution_count": null,
   "metadata": {},
   "outputs": [],
   "source": [
    "app = mr.App(title=\"notebook\",\n",
    "             show_code=True,\n",
    "             show_prompt=True)"
   ]
  },
  {
   "cell_type": "code",
   "execution_count": null,
   "metadata": {},
   "outputs": [],
   "source": [
    "load = mr.Button(label=\"Load data\")"
   ]
  },
  {
   "cell_type": "code",
   "execution_count": null,
   "metadata": {},
   "outputs": [],
   "source": [
    "image = None"
   ]
  },
  {
   "cell_type": "code",
   "execution_count": null,
   "metadata": {},
   "outputs": [],
   "source": [
    "if load.clicked:\n",
    "    image = 1\n",
    "    print(\"Image loading\")\n",
    "    pipeline = DiffusionPipeline.from_pretrained(\"runwayml/stable-diffusion-v1-5\")\n",
    "    pipeline.enable_xformers_memory_efficient_attention() # use less memory to build larger image\n",
    "    pipeline.scheduler = DPMSolverMultistepScheduler.from_config(pipe.scheduler.config) # use best scheduler recommended by huggingface\n",
    "    image = pipeline(\"An image of a squirrel in Picasso style\").images[0]\n",
    "    print(\"Image loaded\")"
   ]
  },
  {
   "cell_type": "code",
   "execution_count": null,
   "metadata": {},
   "outputs": [],
   "source": [
    "image if image is not None else print(\"Image not loaded\")"
   ]
  }
 ],
 "metadata": {
  "language_info": {
   "name": "python"
  },
  "orig_nbformat": 4
 },
 "nbformat": 4,
 "nbformat_minor": 2
}
